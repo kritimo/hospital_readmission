{
 "cells": [
  {
   "cell_type": "code",
   "execution_count": null,
   "metadata": {},
   "outputs": [],
   "source": [
    "import IPython\n",
    "import pandas as pd\n",
    "import numpy as np\n",
    "from statistics import mode\n",
    "import matplotlib.pyplot as plt  \n",
    "from sklearn.preprocessing import MinMaxScaler"
   ]
  },
  {
   "cell_type": "code",
   "execution_count": null,
   "metadata": {},
   "outputs": [],
   "source": [
    "# loading original dataframe\n",
    "df_original = pd.read_csv(\"diabetic_data.csv\")\n",
    "print(df_original.shape)"
   ]
  },
  {
   "cell_type": "code",
   "execution_count": null,
   "metadata": {},
   "outputs": [],
   "source": [
    "# determine shape and \n",
    "print(df_original.info())\n",
    "print(df_original.describe())"
   ]
  },
  {
   "cell_type": "code",
   "execution_count": null,
   "metadata": {},
   "outputs": [],
   "source": [
    "# make copy of data for preprocessing\n",
    "data = df_original.copy(deep=True)"
   ]
  },
  {
   "cell_type": "code",
   "execution_count": null,
   "metadata": {},
   "outputs": [],
   "source": [
    "# find missing values, coded as ?\n",
    "for col in data.columns:\n",
    "    if data[col].dtype == object:\n",
    "        print(col, data[col][data[col] == '?'].count())\n",
    "\n",
    "print('gender', data['gender'][data['gender']== 'Unknown/Invalid'].count())\n",
    "\n"
   ]
  },
  {
   "cell_type": "code",
   "execution_count": null,
   "metadata": {},
   "outputs": [],
   "source": [
    "# drop weight, payer code, medical speciality b/c missing from 98%, and 40-50% \n",
    "data = data.drop(['weight','payer_code', 'medical_specialty'], axis = 1)\n",
    "\n",
    "# drop records where diag_1, diag_2, diag_3 are all missing\n",
    "drop_index = set(data[(data['diag_1'] == '?') & (data['diag_2'] == '?') & (data['diag_3'] == '?')].index)\n",
    "\n",
    "# union with records with unknown gender\n",
    "drop_index = drop_index.union(set(data['gender'][data['gender'] == 'Unknown/Invalid'].index))\n",
    "\n",
    "# union with patients who died during hospital admission\n",
    "drop_index = drop_index.union (set(data[data['discharge_disposition_id'] == 11].index))\n",
    "\n",
    "new_index = list(set(data.index) - set(drop_index))\n",
    "\n",
    "data = data.iloc(new_index)"
   ]
  }
 ],
 "metadata": {
  "kernelspec": {
   "display_name": "env",
   "language": "python",
   "name": "python3"
  },
  "language_info": {
   "codemirror_mode": {
    "name": "ipython",
    "version": 3
   },
   "file_extension": ".py",
   "mimetype": "text/x-python",
   "name": "python",
   "nbconvert_exporter": "python",
   "pygments_lexer": "ipython3",
   "version": "3.8.7"
  }
 },
 "nbformat": 4,
 "nbformat_minor": 2
}
